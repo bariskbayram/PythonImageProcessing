{
 "cells": [
  {
   "cell_type": "code",
   "execution_count": 5,
   "metadata": {},
   "outputs": [],
   "source": [
    "import pandas as pd\n",
    "import numpy as np\n",
    "import matplotlib.pyplot as plt\n",
    "import math"
   ]
  },
  {
   "cell_type": "code",
   "execution_count": 6,
   "metadata": {},
   "outputs": [],
   "source": [
    "train_data = np.asarray(pd.read_csv(\"mnist_train.csv\"))\n",
    "test_data = np.asarray(pd.read_csv(\"mnist_test.csv\"))"
   ]
  },
  {
   "cell_type": "code",
   "execution_count": 7,
   "metadata": {},
   "outputs": [],
   "source": [
    "def show_image(data):\n",
    "    data = data.reshape((28,28))\n",
    "    plt.imshow(data, cmap=\"gray\")"
   ]
  },
  {
   "cell_type": "code",
   "execution_count": 8,
   "metadata": {},
   "outputs": [
    {
     "name": "stdout",
     "output_type": "stream",
     "text": [
      "2 (59999, 785)\n"
     ]
    }
   ],
   "source": [
    "print(train_data.ndim,train_data.shape)"
   ]
  },
  {
   "cell_type": "code",
   "execution_count": 9,
   "metadata": {},
   "outputs": [],
   "source": [
    "splitted_train = {i:train_data[train_data[:,0] == i][:,1:] for i in range(10)}\n",
    "splitted_test  = {i:test_data[test_data[:,0] == i][:,1:] for i in range(10)}"
   ]
  },
  {
   "cell_type": "code",
   "execution_count": 10,
   "metadata": {},
   "outputs": [],
   "source": [
    "def get_len(k):\n",
    "    return len(splitted_train[k])"
   ]
  },
  {
   "cell_type": "code",
   "execution_count": 11,
   "metadata": {},
   "outputs": [
    {
     "name": "stdout",
     "output_type": "stream",
     "text": [
      "0\t5923\n",
      "1\t6742\n",
      "2\t5958\n",
      "3\t6131\n",
      "4\t5842\n",
      "5\t5420\n",
      "6\t5918\n",
      "7\t6265\n",
      "8\t5851\n",
      "9\t5949\n"
     ]
    }
   ],
   "source": [
    "print(\"\\n\".join(f\"{i}\\t{get_len(i)}\" for i in range(10)))"
   ]
  },
  {
   "cell_type": "code",
   "execution_count": 12,
   "metadata": {},
   "outputs": [],
   "source": [
    "def get_mean_std(k):\n",
    "    k_values = splitted_train[k]\n",
    "    means = k_values.mean(axis=0)\n",
    "    stds = k_values.std(axis=0)\n",
    "    return means,stds"
   ]
  },
  {
   "cell_type": "code",
   "execution_count": 13,
   "metadata": {},
   "outputs": [],
   "source": [
    "means_and_stds = [get_mean_std(k) for k in range(10)]"
   ]
  },
  {
   "cell_type": "code",
   "execution_count": 14,
   "metadata": {},
   "outputs": [
    {
     "name": "stdout",
     "output_type": "stream",
     "text": [
      "102.05914719625008\n"
     ]
    }
   ],
   "source": [
    "print(means_and_stds[9][1][300])"
   ]
  },
  {
   "cell_type": "code",
   "execution_count": 15,
   "metadata": {},
   "outputs": [],
   "source": [
    "def pdf_of_class(x, i, k):\n",
    "    mu,sigma = means_and_stds[k][0][i], means_and_stds[k][1][i]\n",
    "    if sigma==0:\n",
    "        return 1\n",
    "    a = float(x-mu)/sigma\n",
    "    return math.exp(-a*a/2.0) / (math.sqrt(2.0*math.pi) * sigma)"
   ]
  },
  {
   "cell_type": "code",
   "execution_count": 16,
   "metadata": {},
   "outputs": [],
   "source": [
    "def predict(im_1):\n",
    "    max_value, max_class = 0,0\n",
    "    for k in range(10):\n",
    "        p = 1.0\n",
    "        for i in range(784):\n",
    "            p_new = pdf_of_class(im_1[i],i,k)\n",
    "            p*=p_new**0.17\n",
    "        if p > max_value:\n",
    "            max_value = p\n",
    "            max_class = k\n",
    "    return max_class,max_value"
   ]
  },
  {
   "cell_type": "code",
   "execution_count": 20,
   "metadata": {},
   "outputs": [
    {
     "name": "stdout",
     "output_type": "stream",
     "text": [
      "(8, 3.358190352490383e-197)\n"
     ]
    },
    {
     "data": {
      "image/png": "[encoded data removed]",
      "text/plain": [
       "<Figure size 432x288 with 1 Axes>"
      ]
     },
     "metadata": {
      "needs_background": "light"
     },
     "output_type": "display_data"
    }
   ],
   "source": [
    "test_image = test_data[np.random.randint(0,len(test_data))][1:]\n",
    "plt.imshow(test_image.reshape((28,28)))\n",
    "print(predict(test_image))"
   ]
  },
  {
   "cell_type": "code",
   "execution_count": null,
   "metadata": {},
   "outputs": [],
   "source": [
    "import tqdm\n",
    "success = 0\n",
    "for i in tqdm.tqdm(range(len(test_data))):\n",
    "    test_image = test_data[i]\n",
    "    predicted = predict(test_image[1:])[0]\n",
    "    if predicted == test_image[0]:\n",
    "        success+=1\n",
    "print(success / len(test_data))"
   ]
  },
  {
   "cell_type": "code",
   "execution_count": null,
   "metadata": {},
   "outputs": [],
   "source": []
  }
 ],
 "metadata": {
  "kernelspec": {
   "display_name": "Python 3",
   "language": "python",
   "name": "python3"
  },
  "language_info": {
   "codemirror_mode": {
    "name": "ipython",
    "version": 3
   },
   "file_extension": ".py",
   "mimetype": "text/x-python",
   "name": "python",
   "nbconvert_exporter": "python",
   "pygments_lexer": "ipython3",
   "version": "3.7.3"
  }
 },
 "nbformat": 4,
 "nbformat_minor": 2
}
