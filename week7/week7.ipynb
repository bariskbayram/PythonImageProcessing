{
 "cells": [
  {
   "cell_type": "code",
   "execution_count": 1,
   "metadata": {},
   "outputs": [],
   "source": [
    "import numpy as np\n",
    "import matplotlib.pyplot as plt"
   ]
  },
  {
   "cell_type": "code",
   "execution_count": 2,
   "metadata": {},
   "outputs": [
    {
     "data": {
      "text/plain": [
       "([180, 170, 170, 175, 181, 175, 177, 185, 179, 160],\n",
       " [95, 70, 60, 79, 60, 63, 83, 80, 75, 50],\n",
       " 10,\n",
       " 10)"
      ]
     },
     "execution_count": 2,
     "metadata": {},
     "output_type": "execute_result"
    }
   ],
   "source": [
    "x = [180,170,170,175,181,175,177,185,179,160]\n",
    "y = [95,70,60,79,60,63,83,80,75,50]\n",
    "x,y,len(x),len(y)"
   ]
  },
  {
   "cell_type": "code",
   "execution_count": 3,
   "metadata": {},
   "outputs": [
    {
     "data": {
      "text/plain": [
       "array([[180, 170, 170, 175, 181, 175, 177, 185, 179, 160],\n",
       "       [ 95,  70,  60,  79,  60,  63,  83,  80,  75,  50]])"
      ]
     },
     "execution_count": 3,
     "metadata": {},
     "output_type": "execute_result"
    }
   ],
   "source": [
    "https://docs.scipy.org/doc/numpy/reference/generated/numpy.cov.html\n",
    "z = np.stack((x,y), axis=0)\n",
    "z"
   ]
  },
  {
   "cell_type": "code",
   "execution_count": 4,
   "metadata": {},
   "outputs": [
    {
     "data": {
      "text/plain": [
       "array([[ 50.62222222,  62.        ],\n",
       "       [ 62.        , 180.72222222]])"
      ]
     },
     "execution_count": 4,
     "metadata": {},
     "output_type": "execute_result"
    }
   ],
   "source": [
    "sigma = np.cov(z)\n",
    "sigma"
   ]
  },
  {
   "cell_type": "code",
   "execution_count": 8,
   "metadata": {},
   "outputs": [],
   "source": [
    "def generateData():\n",
    "    x=[180,170,170,175,181,175,177,185,179,160]\n",
    "    y=[95,70,60,79,60,63,83,80,75,50]\n",
    "    z=np.stack((x, y), axis=0)\n",
    "    return z"
   ]
  },
  {
   "cell_type": "code",
   "execution_count": 9,
   "metadata": {},
   "outputs": [],
   "source": [
    "def getCovMatrix(z):\n",
    "    sigma = np.cov(z)\n",
    "    return sigma"
   ]
  },
  {
   "cell_type": "code",
   "execution_count": 10,
   "metadata": {},
   "outputs": [
    {
     "data": {
      "text/plain": [
       "array([[ 50.62222222,  62.        ],\n",
       "       [ 62.        , 180.72222222]])"
      ]
     },
     "execution_count": 10,
     "metadata": {},
     "output_type": "execute_result"
    }
   ],
   "source": [
    "data1 = generateData()\n",
    "getCovMatrix(data1)"
   ]
  },
  {
   "cell_type": "code",
   "execution_count": 15,
   "metadata": {},
   "outputs": [],
   "source": [
    "def multivariateNormal(x, d, mean, covariance):\n",
    "    x_m = x - mean\n",
    "    return (1. / (np.sqrt((2 * np.pi)**d * np.linalg.det(covariance))) * \n",
    "            np.exp(-(np.linalg.solve(covariance, x_m).T.dot(x_m)) / 2))"
   ]
  },
  {
   "cell_type": "code",
   "execution_count": 16,
   "metadata": {},
   "outputs": [
    {
     "data": {
      "text/plain": [
       "(175.2, 71.5)"
      ]
     },
     "execution_count": 16,
     "metadata": {},
     "output_type": "execute_result"
    }
   ],
   "source": [
    "data2 = generateData()\n",
    "np.mean(data2[0,:]), np.mean(data2[1,:]) #ilk olan x'in(boy) ortalaması, ikincisi y'nin(kilo) ortalaması"
   ]
  },
  {
   "cell_type": "code",
   "execution_count": 17,
   "metadata": {},
   "outputs": [
    {
     "data": {
      "text/plain": [
       "0.002178581612789265"
      ]
     },
     "execution_count": 17,
     "metadata": {},
     "output_type": "execute_result"
    }
   ],
   "source": [
    "x_1 = [175, 72] #Ortalamaları tutuyoruz\n",
    "d_1 = 2\n",
    "data3 = generateData()\n",
    "mean1 = np.array([np.mean(data2[0,:]), np.mean(data2[1,:])]) #boyların ve kiloların ortalaması\n",
    "covariance1 = getCovMatrix(data3)\n",
    "multivariateNormal(x_1, d_1, mean1, covariance1)"
   ]
  },
  {
   "cell_type": "code",
   "execution_count": 18,
   "metadata": {},
   "outputs": [
    {
     "name": "stdout",
     "output_type": "stream",
     "text": [
      "167   0.0006617920579089793\n",
      "168   0.0008653451053442351\n",
      "169   0.0010936064403862028\n",
      "170   0.001335785435578412\n",
      "171   0.0015769440170517839\n",
      "172   0.0017992842345717487\n",
      "173   0.001984208019848439\n",
      "174   0.002114845053089614\n",
      "175   0.002178581612789265\n",
      "176   0.002169067369696109\n"
     ]
    }
   ],
   "source": [
    "for i in range(10):\n",
    "    v = 167+i\n",
    "    x_1 = [v, 72]\n",
    "    s = multivariateNormal(x_1, d_1, mean1, covariance1)\n",
    "    print(v, \" \", s)"
   ]
  }
 ],
 "metadata": {
  "kernelspec": {
   "display_name": "Python 3",
   "language": "python",
   "name": "python3"
  },
  "language_info": {
   "codemirror_mode": {
    "name": "ipython",
    "version": 3
   },
   "file_extension": ".py",
   "mimetype": "text/x-python",
   "name": "python",
   "nbconvert_exporter": "python",
   "pygments_lexer": "ipython3",
   "version": "3.7.3"
  }
 },
 "nbformat": 4,
 "nbformat_minor": 2
}
