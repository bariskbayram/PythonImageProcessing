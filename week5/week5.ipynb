{
 "cells": [
  {
   "cell_type": "code",
   "execution_count": 2,
   "metadata": {},
   "outputs": [],
   "source": [
    "import os\n",
    "import matplotlib.pyplot as plt\n",
    "import numpy as np"
   ]
  },
  {
   "cell_type": "code",
   "execution_count": 10,
   "metadata": {},
   "outputs": [],
   "source": [
    "data_path = os.getcwd()\n",
    "train_data = np.loadtxt(data_path + \"/mnist_train.csv\", delimiter=\",\")\n",
    "test_data = np.loadtxt(data_path + \"/mnist_test.csv\", delimiter=\",\")"
   ]
  },
  {
   "cell_type": "code",
   "execution_count": 11,
   "metadata": {},
   "outputs": [
    {
     "name": "stdout",
     "output_type": "stream",
     "text": [
      "[[7. 0. 0. ... 0. 0. 0.]\n",
      " [2. 0. 0. ... 0. 0. 0.]\n",
      " [1. 0. 0. ... 0. 0. 0.]\n",
      " ...\n",
      " [9. 0. 0. ... 0. 0. 0.]\n",
      " [5. 0. 0. ... 0. 0. 0.]\n",
      " [9. 0. 0. ... 0. 0. 0.]]\n",
      "0.0\n",
      "[  3.   0.   0.   0.   0.   0.   0.   0.   0.   0.   0.   0.   0.   0.\n",
      "   0.   0.   0.   0.   0.   0.   0.   0.   0.   0.   0.   0.   0.   0.\n",
      "   0.   0.   0.   0.   0.   0.   0.   0.   0.   0.   0.   0.   0.   0.\n",
      "   0.   0.   0.   0.   0.   0.   0.   0.   0.   0.   0.   0.   0.   0.\n",
      "   0.   0.   0.   0.   0.   0.   0.   0.   0.   0.   0.   0.   0.   0.\n",
      "   0.   0.   0.   0.   0.   0.   0.   0.   0.   0.   0.   0.   0.   0.\n",
      "   0.   0.   0.   0.   0.   0.   0.   0.   0.   0.   0.   0.   0.   0.\n",
      "   0.   0.   0.   0.   0.   0.   0.   0.   0.   0.   0.   0.   0.   0.\n",
      "   0.   0.   0.   0.   0.   0.   0.   0.   0.   0.   0.   0.  42. 118.\n",
      " 219. 166. 118. 118.   6.   0.   0.   0.   0.   0.   0.   0.   0.   0.\n",
      "   0.   0.   0.   0.   0.   0.   0.   0.   0.   0.   0. 103. 242. 254.\n",
      " 254. 254. 254. 254.  66.   0.   0.   0.   0.   0.   0.   0.   0.   0.\n",
      "   0.   0.   0.   0.   0.   0.   0.   0.   0.   0.   0.  18. 232. 254.\n",
      " 254. 254. 254. 254. 238.  70.   0.   0.   0.   0.   0.   0.   0.   0.\n",
      "   0.   0.   0.   0.   0.   0.   0.   0.   0.   0.   0.   0. 104. 244.\n",
      " 254. 224. 254. 254. 254. 141.   0.   0.   0.   0.   0.   0.   0.   0.\n",
      "   0.   0.   0.   0.   0.   0.   0.   0.   0.   0.   0.   0.   0. 207.\n",
      " 254. 210. 254. 254. 254.  34.   0.   0.   0.   0.   0.   0.   0.   0.\n",
      "   0.   0.   0.   0.   0.   0.   0.   0.   0.   0.   0.   0.   0.  84.\n",
      " 206. 254. 254. 254. 254.  41.   0.   0.   0.   0.   0.   0.   0.   0.\n",
      "   0.   0.   0.   0.   0.   0.   0.   0.   0.   0.   0.   0.   0.   0.\n",
      "  24. 209. 254. 254. 254. 171.   0.   0.   0.   0.   0.   0.   0.   0.\n",
      "   0.   0.   0.   0.   0.   0.   0.   0.   0.   0.   0.   0.   0.  91.\n",
      " 137. 253. 254. 254. 254. 112.   0.   0.   0.   0.   0.   0.   0.   0.\n",
      "   0.   0.   0.   0.   0.   0.   0.   0.   0.   0.   0.  40. 214. 250.\n",
      " 254. 254. 254. 254. 254.  34.   0.   0.   0.   0.   0.   0.   0.   0.\n",
      "   0.   0.   0.   0.   0.   0.   0.   0.   0.   0.   0.  81. 247. 254.\n",
      " 254. 254. 254. 254. 254. 146.   0.   0.   0.   0.   0.   0.   0.   0.\n",
      "   0.   0.   0.   0.   0.   0.   0.   0.   0.   0.   0.   0. 110. 246.\n",
      " 254. 254. 254. 254. 254. 171.   0.   0.   0.   0.   0.   0.   0.   0.\n",
      "   0.   0.   0.   0.   0.   0.   0.   0.   0.   0.   0.   0.   0.  73.\n",
      "  89.  89.  93. 240. 254. 171.   0.   0.   0.   0.   0.   0.   0.   0.\n",
      "   0.   0.   0.   0.   0.   0.   0.   0.   0.   0.   0.   0.   0.   0.\n",
      "   0.   0.   1. 128. 254. 219.  31.   0.   0.   0.   0.   0.   0.   0.\n",
      "   0.   0.   0.   0.   0.   0.   0.   0.   0.   0.   0.   0.   0.   0.\n",
      "   0.   0.   7. 254. 254. 214.  28.   0.   0.   0.   0.   0.   0.   0.\n",
      "   0.   0.   0.   0.   0.   0.   0.   0.   0.   0.   0.   0.   0.   0.\n",
      "   0.   0. 138. 254. 254. 116.   0.   0.   0.   0.   0.   0.   0.   0.\n",
      "   0.   0.   0.   0.   0.   0.   0.  19. 177.  90.   0.   0.   0.   0.\n",
      "   0.  25. 240. 254. 254.  34.   0.   0.   0.   0.   0.   0.   0.   0.\n",
      "   0.   0.   0.   0.   0.   0.   0. 164. 254. 215.  63.  36.   0.  51.\n",
      "  89. 206. 254. 254. 139.   8.   0.   0.   0.   0.   0.   0.   0.   0.\n",
      "   0.   0.   0.   0.   0.   0.   0.  57. 197. 254. 254. 222. 180. 241.\n",
      " 254. 254. 253. 213.  11.   0.   0.   0.   0.   0.   0.   0.   0.   0.\n",
      "   0.   0.   0.   0.   0.   0.   0.   0. 140. 105. 254. 254. 254. 254.\n",
      " 254. 254. 236.   0.   0.   0.   0.   0.   0.   0.   0.   0.   0.   0.\n",
      "   0.   0.   0.   0.   0.   0.   0.   0.   0.   7. 117. 117. 165. 254.\n",
      " 254. 239.  50.   0.   0.   0.   0.   0.   0.   0.   0.   0.   0.   0.\n",
      "   0.   0.   0.   0.   0.   0.   0.   0.   0.   0.   0.   0.   0.   0.\n",
      "   0.   0.   0.   0.   0.   0.   0.   0.   0.   0.   0.   0.   0.   0.\n",
      "   0.   0.   0.   0.   0.   0.   0.   0.   0.   0.   0.   0.   0.   0.\n",
      "   0.   0.   0.   0.   0.   0.   0.   0.   0.   0.   0.   0.   0.   0.\n",
      "   0.   0.   0.   0.   0.   0.   0.   0.   0.   0.   0.   0.   0.   0.\n",
      "   0.   0.   0.   0.   0.   0.   0.   0.   0.   0.   0.   0.   0.   0.\n",
      "   0.   0.   0.   0.   0.   0.   0.   0.   0.   0.   0.   0.   0.   0.\n",
      "   0.   0.   0.   0.   0.   0.   0.   0.   0.   0.   0.   0.   0.   0.\n",
      "   0.]\n"
     ]
    }
   ],
   "source": [
    "image_size = 28 # width and length\n",
    "no_of_different_labels = 10 # 0, 1, 2, 3, ..., 9\n",
    "image_pixels = image_size * image_size #784\n",
    "print(test_data[:10]) #tüm satırları 10. sutunlarına kadar gösterir.\n",
    "print(train_data[10,15]) \n",
    "print(train_data[10,:]) #10.satırı komple yazar"
   ]
  },
  {
   "cell_type": "code",
   "execution_count": 98,
   "metadata": {},
   "outputs": [
    {
     "name": "stdout",
     "output_type": "stream",
     "text": [
      "1\n",
      "(785,)\n"
     ]
    }
   ],
   "source": [
    "image = train_data[44, :]\n",
    "print(image.ndim)\n",
    "print(image.shape)"
   ]
  },
  {
   "cell_type": "code",
   "execution_count": 99,
   "metadata": {},
   "outputs": [
    {
     "name": "stdout",
     "output_type": "stream",
     "text": [
      "(784,)\n"
     ]
    }
   ],
   "source": [
    "image1 = image[1:] #ilk satırda sayılar gösterildiği için o hariç alıyoruz\n",
    "print(image1.shape)"
   ]
  },
  {
   "cell_type": "code",
   "execution_count": 100,
   "metadata": {},
   "outputs": [
    {
     "data": {
      "image/png": "[encoded data removed]",
      "text/plain": [
       "<Figure size 432x288 with 1 Axes>"
      ]
     },
     "metadata": {
      "needs_background": "light"
     },
     "output_type": "display_data"
    },
    {
     "data": {
      "text/plain": [
       "(2, (28, 28))"
      ]
     },
     "execution_count": 100,
     "metadata": {},
     "output_type": "execute_result"
    }
   ],
   "source": [
    "image2 = image1.reshape(28,28) # 28'e 28 olarak yeniden boyutlandırdık\n",
    "plt.imshow(image2, cmap=\"gray\")\n",
    "plt.show()\n",
    "plt.imsave('uc.png', image2)\n",
    "image2.ndim, image2.shape"
   ]
  },
  {
   "cell_type": "code",
   "execution_count": 101,
   "metadata": {},
   "outputs": [
    {
     "name": "stdout",
     "output_type": "stream",
     "text": [
      "60000 785\n"
     ]
    }
   ],
   "source": [
    "m,n = train_data.shape #60000 785 boyutunda\n",
    "print(m,n)"
   ]
  },
  {
   "cell_type": "code",
   "execution_count": 58,
   "metadata": {},
   "outputs": [],
   "source": [
    "#train data içinde hangi rakamdan kaç tane var\n",
    "def counterTrainData(k=0):  #default 0 buluyor ama sen teker teker rakamları yollayarak bulcaksın\n",
    "    s=0\n",
    "    for i in range(m):\n",
    "        if(train_data[i,0]==k):\n",
    "            s=s+1\n",
    "    return s"
   ]
  },
  {
   "cell_type": "code",
   "execution_count": 59,
   "metadata": {},
   "outputs": [
    {
     "name": "stdout",
     "output_type": "stream",
     "text": [
      "0   5923\n",
      "1   6742\n",
      "2   5958\n",
      "3   6131\n",
      "4   5842\n",
      "5   5421\n",
      "6   5918\n",
      "7   6265\n",
      "8   5851\n",
      "9   5949\n"
     ]
    }
   ],
   "source": [
    "for i in range(10): #sırayla hepsini buluyoruz\n",
    "    c = counterTrainData(i)\n",
    "    print(i, \" \", c)"
   ]
  },
  {
   "cell_type": "code",
   "execution_count": 60,
   "metadata": {},
   "outputs": [],
   "source": [
    "#rakamların bulunma olasılıkları\n",
    "import math\n",
    "def pdf1 (x, mu=0.0, sigma=1.0):\n",
    "    x = float(x - mu)/ sigma\n",
    "    return math.exp(-x*x/2.0) / math.sqrt(2.0*math.pi) / sigma"
   ]
  },
  {
   "cell_type": "code",
   "execution_count": 61,
   "metadata": {},
   "outputs": [
    {
     "data": {
      "text/plain": [
       "0.05467002489199788"
      ]
     },
     "execution_count": 61,
     "metadata": {},
     "output_type": "execute_result"
    }
   ],
   "source": [
    "pdf1(5,1,3)"
   ]
  },
  {
   "cell_type": "code",
   "execution_count": 62,
   "metadata": {},
   "outputs": [],
   "source": [
    "def pdf2(x, mu=0.0, sigma=1.0): #eps diye bir şey var ama ne olduğunu anlamadım pdf1'den farkını da anlamadım\n",
    "    eps = np.finfo(float).eps\n",
    "    x = float(x - mu)/(sigma+eps)\n",
    "    return math.exp(-x*x/2.0) / math.sqrt(2.0*math.pi) / (sigma+eps)"
   ]
  },
  {
   "cell_type": "code",
   "execution_count": 63,
   "metadata": {},
   "outputs": [
    {
     "data": {
      "text/plain": [
       "0.05467002489199788"
      ]
     },
     "execution_count": 63,
     "metadata": {},
     "output_type": "execute_result"
    }
   ],
   "source": [
    "pdf2(5,1,3)"
   ]
  },
  {
   "cell_type": "code",
   "execution_count": 70,
   "metadata": {},
   "outputs": [],
   "source": [
    "def getMyMeanAndStd(k=0, l=350, m=10000):\n",
    "    s=0 #kaç tane sıfır var onu tutacak\n",
    "    t=0 #pixeldeki intersity değeri\n",
    "    #k=>sınıfın yani digitin bilgisi\n",
    "    #l=>location yani sınıfın pixel değeri\n",
    "    for i in range(m):\n",
    "        if(train_data[i,0] == k):\n",
    "            s=s+1\n",
    "            t=t+train_data[i, l+1] #l+1 olcak çünkü 0'da digit bilgisi var\n",
    "            #digit_class = train_data[i,0]\n",
    "            #top_left = train_data[i,1]\n",
    "            #bottom_right = train_data[i,784]\n",
    "    mean = t/s\n",
    "    \n",
    "    s,t = 0,0\n",
    "    for i in range(m):\n",
    "        if(train_data[i,0] == k):\n",
    "            s=s+1\n",
    "            diff=train_data[i, l+1] - mean\n",
    "            t=t+diff*diff\n",
    "    std = math.sqrt(t/(s-1))\n",
    "    \n",
    "    return mean, std"
   ]
  },
  {
   "cell_type": "code",
   "execution_count": 71,
   "metadata": {},
   "outputs": [
    {
     "data": {
      "text/plain": [
       "(1.2972493345164153, 14.870650743271637)"
      ]
     },
     "execution_count": 71,
     "metadata": {},
     "output_type": "execute_result"
    }
   ],
   "source": [
    "getMyMeanAndStd(1, 100)"
   ]
  },
  {
   "cell_type": "code",
   "execution_count": 72,
   "metadata": {},
   "outputs": [
    {
     "data": {
      "text/plain": [
       "1.1059921901052853e-92"
      ]
     },
     "execution_count": 72,
     "metadata": {},
     "output_type": "execute_result"
    }
   ],
   "source": [
    "test_value = 45\n",
    "pdf1(test_value, 4.0, 2.0)"
   ]
  },
  {
   "cell_type": "code",
   "execution_count": 102,
   "metadata": {},
   "outputs": [
    {
     "data": {
      "image/png": "[encoded data removed]",
      "text/plain": [
       "<Figure size 432x288 with 1 Axes>"
      ]
     },
     "metadata": {
      "needs_background": "light"
     },
     "output_type": "display_data"
    },
    {
     "data": {
      "text/plain": [
       "(2, (28, 28))"
      ]
     },
     "execution_count": 102,
     "metadata": {},
     "output_type": "execute_result"
    }
   ],
   "source": [
    "testImage = image2[:,:]\n",
    "plt.imshow(testImage,cmap='gray')\n",
    "plt.show()\n",
    "testImage.ndim, testImage.shape"
   ]
  },
  {
   "cell_type": "code",
   "execution_count": 103,
   "metadata": {},
   "outputs": [],
   "source": [
    "image3 = testImage.reshape(1,784)"
   ]
  },
  {
   "cell_type": "code",
   "execution_count": 104,
   "metadata": {},
   "outputs": [
    {
     "name": "stdout",
     "output_type": "stream",
     "text": [
      "0  :  5.012726891949441e+17\n",
      "1  :  6.018865622950038e+17\n",
      "2  :  4.096421976216755e+17\n",
      "3  :  4.491690763395561e+17\n",
      "4  :  4.3838901850740685e+17\n",
      "5  :  4.509657526449143e+17\n",
      "6  :  4.797125735306456e+17\n",
      "7  :  4.797125735306456e+17\n",
      "8  :  4.904926313627949e+17\n",
      "9  :  5.0306936550030234e+17\n"
     ]
    }
   ],
   "source": [
    "myList = []\n",
    "for i in range(10):\n",
    "    pdf_t = 0\n",
    "    for j in range(784):\n",
    "        x = image3[0,j]\n",
    "        mean, std = getMyMeanAndStd(i,j)\n",
    "        pdf_deger = pdf2(x, mean, std)\n",
    "        pdf_t += pdf_deger\n",
    "    print(i, \" : \", pdf_t)\n",
    "    myList.append(pdf_t)"
   ]
  },
  {
   "cell_type": "code",
   "execution_count": 105,
   "metadata": {},
   "outputs": [
    {
     "data": {
      "text/plain": [
       "6.018865622950038e+17"
      ]
     },
     "execution_count": 105,
     "metadata": {},
     "output_type": "execute_result"
    }
   ],
   "source": [
    "max(myList)"
   ]
  },
  {
   "cell_type": "code",
   "execution_count": 106,
   "metadata": {},
   "outputs": [
    {
     "name": "stdout",
     "output_type": "stream",
     "text": [
      "6.018865622950038e+17\n"
     ]
    }
   ],
   "source": [
    "m=len(myList)\n",
    "maxNumber = 0\n",
    "for i in range(m):\n",
    "    if(maxNumber < myList[i]):\n",
    "        maxNumber = myList[i]\n",
    "print(maxNumber)"
   ]
  }
 ],
 "metadata": {
  "kernelspec": {
   "display_name": "Python 3",
   "language": "python",
   "name": "python3"
  },
  "language_info": {
   "codemirror_mode": {
    "name": "ipython",
    "version": 3
   },
   "file_extension": ".py",
   "mimetype": "text/x-python",
   "name": "python",
   "nbconvert_exporter": "python",
   "pygments_lexer": "ipython3",
   "version": "3.7.3"
  }
 },
 "nbformat": 4,
 "nbformat_minor": 2
}
